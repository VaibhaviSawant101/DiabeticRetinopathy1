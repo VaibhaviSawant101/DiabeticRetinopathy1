{
 "cells": [
  {
   "cell_type": "markdown",
   "id": "31108a97",
   "metadata": {},
   "source": [
    "### ResNet152"
   ]
  },
  {
   "cell_type": "code",
   "execution_count": 1,
   "id": "a2637911",
   "metadata": {},
   "outputs": [],
   "source": [
    "import numpy as np\n",
    "import tensorflow as tf\n",
    "from tensorflow.keras import layers, models\n",
    "from tensorflow.keras.applications import ResNet152\n",
    "from tensorflow.keras.preprocessing.image import ImageDataGenerator"
   ]
  },
  {
   "cell_type": "code",
   "execution_count": 2,
   "id": "b892f07f",
   "metadata": {},
   "outputs": [],
   "source": [
    "Xtrain = np.load('Xtrain.npz')\n",
    "Xtrain = Xtrain['x']\n",
    "Ytrain = np.load('Ytrain.npz')\n",
    "Ytrain = Ytrain['y']"
   ]
  },
  {
   "cell_type": "code",
   "execution_count": 3,
   "id": "e2e93f03",
   "metadata": {},
   "outputs": [],
   "source": [
    "Xtest = np.load('Xtest.npz')\n",
    "Xtest = Xtest['x']\n",
    "Ytest = np.load('Ytest.npz')\n",
    "Ytest = Ytest['y']"
   ]
  },
  {
   "cell_type": "code",
   "execution_count": 4,
   "id": "911a1b45",
   "metadata": {},
   "outputs": [],
   "source": [
    "Xval = np.load('Xval.npz')\n",
    "Xval = Xval['x']\n",
    "Yval = np.load('Yval.npz')\n",
    "Yval = Yval['y']"
   ]
  },
  {
   "cell_type": "code",
   "execution_count": 5,
   "id": "3a00f25a",
   "metadata": {},
   "outputs": [],
   "source": [
    "base_model = ResNet152(weights='imagenet', include_top=False, input_shape=(Xtrain.shape[1], Xtrain.shape[2], 3))"
   ]
  },
  {
   "cell_type": "code",
   "execution_count": 6,
   "id": "368e5469",
   "metadata": {},
   "outputs": [],
   "source": [
    "Xtrain = np.expand_dims(Xtrain, axis=-1) \n",
    "Xtrain = np.repeat(Xtrain, 3, axis=-1)"
   ]
  },
  {
   "cell_type": "code",
   "execution_count": 7,
   "id": "7e5b721d",
   "metadata": {},
   "outputs": [],
   "source": [
    "Xval = np.expand_dims(Xval, axis=-1)\n",
    "Xval = np.repeat(Xval, 3, axis=-1)"
   ]
  },
  {
   "cell_type": "code",
   "execution_count": 8,
   "id": "8c2fba53",
   "metadata": {},
   "outputs": [],
   "source": [
    "Xtest = np.expand_dims(Xtest, axis=-1)\n",
    "Xtest = np.repeat(Xtest, 3, axis=-1)"
   ]
  },
  {
   "cell_type": "code",
   "execution_count": 9,
   "id": "4a888d39",
   "metadata": {},
   "outputs": [],
   "source": [
    "base_model.trainable = False"
   ]
  },
  {
   "cell_type": "code",
   "execution_count": 10,
   "id": "adb05087",
   "metadata": {},
   "outputs": [],
   "source": [
    "model = models.Sequential([\n",
    "    base_model,\n",
    "    layers.GlobalAveragePooling2D(),\n",
    "    layers.Dense(128, activation='relu'),\n",
    "    layers.Dense(5, activation='softmax')  # Assuming num_classes is the number of classes you want to classify\n",
    "])"
   ]
  },
  {
   "cell_type": "code",
   "execution_count": 11,
   "id": "ebd846b8",
   "metadata": {},
   "outputs": [],
   "source": [
    "model.compile(optimizer='adam',\n",
    "              loss='sparse_categorical_crossentropy',\n",
    "              metrics=['accuracy'])\n"
   ]
  },
  {
   "cell_type": "code",
   "execution_count": 12,
   "id": "3b85e140",
   "metadata": {},
   "outputs": [],
   "source": [
    "train_datagen = ImageDataGenerator(rescale=1./255,\n",
    "                                  rotation_range=20,\n",
    "                                  width_shift_range=0.2,\n",
    "                                  height_shift_range=0.2,\n",
    "                                  shear_range=0.2,\n",
    "                                  zoom_range=0.2,\n",
    "                                  horizontal_flip=True,\n",
    "                                  fill_mode='nearest')"
   ]
  },
  {
   "cell_type": "code",
   "execution_count": null,
   "id": "6cd49267",
   "metadata": {},
   "outputs": [
    {
     "name": "stdout",
     "output_type": "stream",
     "text": [
      "Epoch 1/20\n",
      "92/92 [==============================] - 1267s 13s/step - loss: 1.0802 - accuracy: 0.6113 - val_loss: 10.8322 - val_accuracy: 0.4699\n",
      "Epoch 2/20\n",
      "92/92 [==============================] - 1201s 13s/step - loss: 0.9903 - accuracy: 0.6399 - val_loss: 11.7289 - val_accuracy: 0.4699\n",
      "Epoch 3/20\n",
      "92/92 [==============================] - 962s 10s/step - loss: 0.9649 - accuracy: 0.6444 - val_loss: 11.1892 - val_accuracy: 0.4699\n",
      "Epoch 4/20\n",
      "92/92 [==============================] - 820s 9s/step - loss: 0.9015 - accuracy: 0.6700 - val_loss: 11.2039 - val_accuracy: 0.4699\n",
      "Epoch 5/20\n",
      "92/92 [==============================] - 821s 9s/step - loss: 0.9219 - accuracy: 0.6618 - val_loss: 9.0984 - val_accuracy: 0.4699\n",
      "Epoch 6/20\n",
      "92/92 [==============================] - 745s 8s/step - loss: 0.8854 - accuracy: 0.6747 - val_loss: 7.3132 - val_accuracy: 0.4699\n",
      "Epoch 7/20\n",
      "92/92 [==============================] - 707s 8s/step - loss: 0.9139 - accuracy: 0.6532 - val_loss: 8.3065 - val_accuracy: 0.4699\n",
      "Epoch 8/20\n",
      "92/92 [==============================] - 704s 8s/step - loss: 0.8781 - accuracy: 0.6826 - val_loss: 8.3744 - val_accuracy: 0.4699\n",
      "Epoch 9/20\n",
      "92/92 [==============================] - 698s 8s/step - loss: 0.8734 - accuracy: 0.6734 - val_loss: 9.9780 - val_accuracy: 0.4699\n",
      "Epoch 10/20\n",
      "92/92 [==============================] - 704s 8s/step - loss: 0.8590 - accuracy: 0.6836 - val_loss: 9.4197 - val_accuracy: 0.4699\n",
      "Epoch 11/20\n",
      "92/92 [==============================] - 704s 8s/step - loss: 0.8510 - accuracy: 0.6809 - val_loss: 9.9447 - val_accuracy: 0.4699\n",
      "Epoch 12/20\n",
      "92/92 [==============================] - 701s 8s/step - loss: 0.8559 - accuracy: 0.6778 - val_loss: 11.5278 - val_accuracy: 0.4699\n",
      "Epoch 13/20\n",
      "92/92 [==============================] - 800s 9s/step - loss: 0.8338 - accuracy: 0.6846 - val_loss: 9.6581 - val_accuracy: 0.4699\n",
      "Epoch 14/20\n",
      "92/92 [==============================] - 721s 8s/step - loss: 0.8599 - accuracy: 0.6771 - val_loss: 8.8491 - val_accuracy: 0.4699\n",
      "Epoch 15/20\n",
      "92/92 [==============================] - 709s 8s/step - loss: 0.8328 - accuracy: 0.6911 - val_loss: 10.1514 - val_accuracy: 0.4699\n",
      "Epoch 16/20\n",
      "92/92 [==============================] - 706s 8s/step - loss: 0.8175 - accuracy: 0.6891 - val_loss: 10.4477 - val_accuracy: 0.4699\n",
      "Epoch 17/20\n",
      "92/92 [==============================] - 701s 8s/step - loss: 0.8198 - accuracy: 0.6966 - val_loss: 10.8046 - val_accuracy: 0.4699\n",
      "Epoch 18/20\n",
      "92/92 [==============================] - 703s 8s/step - loss: 0.8273 - accuracy: 0.6956 - val_loss: 9.9429 - val_accuracy: 0.4699\n",
      "Epoch 19/20\n",
      "92/92 [==============================] - 704s 8s/step - loss: 0.8312 - accuracy: 0.6908 - val_loss: 10.0873 - val_accuracy: 0.4699\n",
      "Epoch 20/20\n",
      "92/92 [==============================] - ETA: 0s - loss: 0.8440 - accuracy: 0.6809 "
     ]
    }
   ],
   "source": [
    "train_generator = train_datagen.flow(Xtrain, Ytrain, batch_size=32)\n",
    "validation_data = (Xval, Yval)\n",
    "model.fit(train_generator, epochs=20, validation_data=validation_data)"
   ]
  },
  {
   "cell_type": "code",
   "execution_count": null,
   "id": "8f299bd1",
   "metadata": {},
   "outputs": [],
   "source": [
    "test_loss, test_acc = model.evaluate(Xtest, Ytest)\n",
    "print('Test accuracy:', test_acc)"
   ]
  }
 ],
 "metadata": {
  "kernelspec": {
   "display_name": "Python 3 (ipykernel)",
   "language": "python",
   "name": "python3"
  },
  "language_info": {
   "codemirror_mode": {
    "name": "ipython",
    "version": 3
   },
   "file_extension": ".py",
   "mimetype": "text/x-python",
   "name": "python",
   "nbconvert_exporter": "python",
   "pygments_lexer": "ipython3",
   "version": "3.9.7"
  }
 },
 "nbformat": 4,
 "nbformat_minor": 5
}
