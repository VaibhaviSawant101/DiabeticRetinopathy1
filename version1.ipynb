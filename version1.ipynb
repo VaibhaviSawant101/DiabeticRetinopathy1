{
 "cells": [
  {
   "cell_type": "markdown",
   "id": "bb941139",
   "metadata": {},
   "source": [
    "### Simple CNN model"
   ]
  },
  {
   "cell_type": "code",
   "execution_count": 1,
   "id": "f544547d",
   "metadata": {},
   "outputs": [],
   "source": [
    "import numpy as np\n",
    "from sklearn.model_selection import train_test_split\n",
    "from tensorflow.keras.models import Sequential\n",
    "from tensorflow.keras.layers import Conv2D, MaxPooling2D, Flatten, Dense"
   ]
  },
  {
   "cell_type": "code",
   "execution_count": 2,
   "id": "fc8d1440",
   "metadata": {},
   "outputs": [],
   "source": [
    "Xtrain = np.load('Xtrain.npz')\n",
    "Xtrain = Xtrain['x']\n",
    "Ytrain = np.load('Ytrain.npz')\n",
    "Ytrain = Ytrain['y']"
   ]
  },
  {
   "cell_type": "code",
   "execution_count": 4,
   "id": "02846afa",
   "metadata": {},
   "outputs": [],
   "source": [
    "Xtest = np.load('Xtest.npz')\n",
    "Xtest = Xtest['x']\n",
    "Ytest = np.load('Ytest.npz')\n",
    "Ytest = Ytest['y']"
   ]
  },
  {
   "cell_type": "code",
   "execution_count": 5,
   "id": "ffa88f19",
   "metadata": {},
   "outputs": [],
   "source": [
    "Xval = np.load('Xval.npz')\n",
    "Xval = Xval['x']\n",
    "Yval = np.load('Yval.npz')\n",
    "Yval = Yval['y']"
   ]
  },
  {
   "cell_type": "code",
   "execution_count": 6,
   "id": "4da8563a",
   "metadata": {},
   "outputs": [
    {
     "data": {
      "text/plain": [
       "(2930, 255, 255)"
      ]
     },
     "execution_count": 6,
     "metadata": {},
     "output_type": "execute_result"
    }
   ],
   "source": [
    "Xtrain.shape"
   ]
  },
  {
   "cell_type": "code",
   "execution_count": 7,
   "id": "62eb9bf8",
   "metadata": {},
   "outputs": [
    {
     "data": {
      "text/plain": [
       "(2930,)"
      ]
     },
     "execution_count": 7,
     "metadata": {},
     "output_type": "execute_result"
    }
   ],
   "source": [
    "Ytrain.shape"
   ]
  },
  {
   "cell_type": "code",
   "execution_count": 8,
   "id": "08084a81",
   "metadata": {},
   "outputs": [],
   "source": [
    "model = Sequential([\n",
    "    Conv2D(32, (3, 3), activation='relu', input_shape=(255, 255, 1)),\n",
    "    MaxPooling2D((2, 2)),\n",
    "    Conv2D(64, (3, 3), activation='relu'),\n",
    "    MaxPooling2D((2, 2)),\n",
    "    Flatten(),\n",
    "    Dense(64, activation='relu'),\n",
    "    Dense(5, activation='softmax')\n",
    "])"
   ]
  },
  {
   "cell_type": "code",
   "execution_count": 9,
   "id": "3e5082d1",
   "metadata": {},
   "outputs": [],
   "source": [
    "model.compile(optimizer='adam',\n",
    "              loss='sparse_categorical_crossentropy',\n",
    "              metrics=['accuracy'])"
   ]
  },
  {
   "cell_type": "code",
   "execution_count": 10,
   "id": "60287405",
   "metadata": {},
   "outputs": [
    {
     "name": "stdout",
     "output_type": "stream",
     "text": [
      "Epoch 1/10\n",
      "92/92 [==============================] - 162s 2s/step - loss: 185.9335 - accuracy: 0.6430 - val_loss: 0.8326 - val_accuracy: 0.7104\n",
      "Epoch 2/10\n",
      "92/92 [==============================] - 156s 2s/step - loss: 0.7009 - accuracy: 0.7659 - val_loss: 0.7534 - val_accuracy: 0.7213\n",
      "Epoch 3/10\n",
      "92/92 [==============================] - 156s 2s/step - loss: 0.5210 - accuracy: 0.8242 - val_loss: 0.8091 - val_accuracy: 0.7268\n",
      "Epoch 4/10\n",
      "92/92 [==============================] - 162s 2s/step - loss: 0.3212 - accuracy: 0.8997 - val_loss: 0.9353 - val_accuracy: 0.7158\n",
      "Epoch 5/10\n",
      "92/92 [==============================] - 157s 2s/step - loss: 0.1770 - accuracy: 0.9532 - val_loss: 0.9766 - val_accuracy: 0.7131\n",
      "Epoch 6/10\n",
      "92/92 [==============================] - 156s 2s/step - loss: 0.1117 - accuracy: 0.9771 - val_loss: 1.0407 - val_accuracy: 0.7186\n",
      "Epoch 7/10\n",
      "92/92 [==============================] - 156s 2s/step - loss: 0.0708 - accuracy: 0.9857 - val_loss: 1.2946 - val_accuracy: 0.7022\n",
      "Epoch 8/10\n",
      "92/92 [==============================] - 156s 2s/step - loss: 0.0883 - accuracy: 0.9860 - val_loss: 1.1980 - val_accuracy: 0.6967\n",
      "Epoch 9/10\n",
      "92/92 [==============================] - 222s 2s/step - loss: 0.0670 - accuracy: 0.9863 - val_loss: 1.1878 - val_accuracy: 0.7049\n",
      "Epoch 10/10\n",
      "92/92 [==============================] - 300s 3s/step - loss: 0.0636 - accuracy: 0.9887 - val_loss: 1.3449 - val_accuracy: 0.7077\n"
     ]
    },
    {
     "data": {
      "text/plain": [
       "<keras.callbacks.History at 0x1c3119364c0>"
      ]
     },
     "execution_count": 10,
     "metadata": {},
     "output_type": "execute_result"
    }
   ],
   "source": [
    "model.fit(Xtrain, Ytrain, epochs=10, batch_size=32, validation_data=(Xval, Yval))"
   ]
  },
  {
   "cell_type": "code",
   "execution_count": 11,
   "id": "2697d5c2",
   "metadata": {},
   "outputs": [
    {
     "name": "stdout",
     "output_type": "stream",
     "text": [
      "12/12 [==============================] - 10s 792ms/step - loss: 1.3464 - accuracy: 0.7022\n",
      "Test accuracy: 0.7021858096122742\n"
     ]
    }
   ],
   "source": [
    "test_loss, test_acc = model.evaluate(Xtest, Ytest)\n",
    "print('Test accuracy:', test_acc)"
   ]
  }
 ],
 "metadata": {
  "kernelspec": {
   "display_name": "Python 3 (ipykernel)",
   "language": "python",
   "name": "python3"
  },
  "language_info": {
   "codemirror_mode": {
    "name": "ipython",
    "version": 3
   },
   "file_extension": ".py",
   "mimetype": "text/x-python",
   "name": "python",
   "nbconvert_exporter": "python",
   "pygments_lexer": "ipython3",
   "version": "3.9.7"
  }
 },
 "nbformat": 4,
 "nbformat_minor": 5
}
