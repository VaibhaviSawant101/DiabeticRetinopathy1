{
 "cells": [
  {
   "cell_type": "markdown",
   "id": "dde06a7a",
   "metadata": {},
   "source": [
    "### ResNet50V2"
   ]
  },
  {
   "cell_type": "code",
   "execution_count": 1,
   "id": "b1f92965",
   "metadata": {},
   "outputs": [],
   "source": [
    "import numpy as np\n",
    "import tensorflow as tf\n",
    "from tensorflow.keras import layers, models\n",
    "from tensorflow.keras.applications import ResNet50V2\n",
    "from tensorflow.keras.preprocessing.image import ImageDataGenerator"
   ]
  },
  {
   "cell_type": "code",
   "execution_count": 2,
   "id": "a46d8369",
   "metadata": {},
   "outputs": [],
   "source": [
    "Xtrain = np.load('Xtrain.npz')\n",
    "Xtrain = Xtrain['x']\n",
    "Ytrain = np.load('Ytrain.npz')\n",
    "Ytrain = Ytrain['y']"
   ]
  },
  {
   "cell_type": "code",
   "execution_count": 3,
   "id": "3189f345",
   "metadata": {},
   "outputs": [],
   "source": [
    "Xtest = np.load('Xtest.npz')\n",
    "Xtest = Xtest['x']\n",
    "Ytest = np.load('Ytest.npz')\n",
    "Ytest = Ytest['y']"
   ]
  },
  {
   "cell_type": "code",
   "execution_count": 4,
   "id": "65b6f843",
   "metadata": {},
   "outputs": [],
   "source": [
    "Xval = np.load('Xval.npz')\n",
    "Xval = Xval['x']\n",
    "Yval = np.load('Yval.npz')\n",
    "Yval = Yval['y']"
   ]
  },
  {
   "cell_type": "code",
   "execution_count": 5,
   "id": "bfbeb512",
   "metadata": {},
   "outputs": [],
   "source": [
    "base_model = ResNet50V2(weights='imagenet', include_top=False, input_shape=(Xtrain.shape[1], Xtrain.shape[2], 3))"
   ]
  },
  {
   "cell_type": "code",
   "execution_count": 6,
   "id": "5ca98fe0",
   "metadata": {},
   "outputs": [],
   "source": [
    "Xtrain = np.expand_dims(Xtrain, axis=-1) \n",
    "Xtrain = np.repeat(Xtrain, 3, axis=-1)"
   ]
  },
  {
   "cell_type": "code",
   "execution_count": 7,
   "id": "01a3b344",
   "metadata": {},
   "outputs": [],
   "source": [
    "Xval = np.expand_dims(Xval, axis=-1)\n",
    "Xval = np.repeat(Xval, 3, axis=-1)"
   ]
  },
  {
   "cell_type": "code",
   "execution_count": 15,
   "id": "248bde78",
   "metadata": {},
   "outputs": [],
   "source": [
    "Xtest = np.expand_dims(Xtest, axis=-1)\n",
    "Xtest = np.repeat(Xtest, 3, axis=-1)"
   ]
  },
  {
   "cell_type": "code",
   "execution_count": 8,
   "id": "86afbde2",
   "metadata": {},
   "outputs": [],
   "source": [
    "base_model.trainable = False"
   ]
  },
  {
   "cell_type": "code",
   "execution_count": 9,
   "id": "fe437790",
   "metadata": {},
   "outputs": [],
   "source": [
    "model = models.Sequential([\n",
    "    base_model,\n",
    "    layers.GlobalAveragePooling2D(),\n",
    "    layers.Dense(128, activation='relu'),\n",
    "    layers.Dense(5, activation='softmax')  # Assuming num_classes is the number of classes you want to classify\n",
    "])"
   ]
  },
  {
   "cell_type": "code",
   "execution_count": 10,
   "id": "a089bbb5",
   "metadata": {},
   "outputs": [],
   "source": [
    "model.compile(optimizer='adam',\n",
    "              loss='sparse_categorical_crossentropy',\n",
    "              metrics=['accuracy'])"
   ]
  },
  {
   "cell_type": "code",
   "execution_count": 11,
   "id": "99612bf7",
   "metadata": {},
   "outputs": [],
   "source": [
    "train_datagen = ImageDataGenerator(rescale=1./255,\n",
    "                                  rotation_range=20,\n",
    "                                  width_shift_range=0.2,\n",
    "                                  height_shift_range=0.2,\n",
    "                                  shear_range=0.2,\n",
    "                                  zoom_range=0.2,\n",
    "                                  horizontal_flip=True,\n",
    "                                  fill_mode='nearest')"
   ]
  },
  {
   "cell_type": "code",
   "execution_count": 12,
   "id": "159f5d36",
   "metadata": {},
   "outputs": [
    {
     "name": "stdout",
     "output_type": "stream",
     "text": [
      "Epoch 1/10\n",
      "92/92 [==============================] - 226s 2s/step - loss: 0.9465 - accuracy: 0.6509 - val_loss: 231.2335 - val_accuracy: 0.2842\n",
      "Epoch 2/10\n",
      "92/92 [==============================] - 268s 3s/step - loss: 0.8045 - accuracy: 0.7003 - val_loss: 226.8943 - val_accuracy: 0.2842\n",
      "Epoch 3/10\n",
      "92/92 [==============================] - 264s 3s/step - loss: 0.7807 - accuracy: 0.7099 - val_loss: 268.3937 - val_accuracy: 0.2842\n",
      "Epoch 4/10\n",
      "92/92 [==============================] - 266s 3s/step - loss: 0.7347 - accuracy: 0.7263 - val_loss: 321.5524 - val_accuracy: 0.2842\n",
      "Epoch 5/10\n",
      "92/92 [==============================] - 265s 3s/step - loss: 0.7391 - accuracy: 0.7239 - val_loss: 161.7446 - val_accuracy: 0.2814\n",
      "Epoch 6/10\n",
      "92/92 [==============================] - 230s 2s/step - loss: 0.7139 - accuracy: 0.7365 - val_loss: 163.4162 - val_accuracy: 0.3743\n",
      "Epoch 7/10\n",
      "92/92 [==============================] - 232s 3s/step - loss: 0.7068 - accuracy: 0.7348 - val_loss: 184.9222 - val_accuracy: 0.4016\n",
      "Epoch 8/10\n",
      "92/92 [==============================] - 228s 2s/step - loss: 0.7054 - accuracy: 0.7314 - val_loss: 294.0348 - val_accuracy: 0.2842\n",
      "Epoch 9/10\n",
      "92/92 [==============================] - 228s 2s/step - loss: 0.6963 - accuracy: 0.7396 - val_loss: 171.1090 - val_accuracy: 0.4317\n",
      "Epoch 10/10\n",
      "92/92 [==============================] - 227s 2s/step - loss: 0.6788 - accuracy: 0.7433 - val_loss: 274.1372 - val_accuracy: 0.2842\n"
     ]
    },
    {
     "data": {
      "text/plain": [
       "<keras.callbacks.History at 0x1ed7db46ee0>"
      ]
     },
     "execution_count": 12,
     "metadata": {},
     "output_type": "execute_result"
    }
   ],
   "source": [
    "train_generator = train_datagen.flow(Xtrain, Ytrain, batch_size=32)\n",
    "validation_data = (Xval, Yval)\n",
    "model.fit(train_generator, epochs=10, validation_data=validation_data)"
   ]
  },
  {
   "cell_type": "code",
   "execution_count": 16,
   "id": "1677c7c5",
   "metadata": {},
   "outputs": [
    {
     "name": "stdout",
     "output_type": "stream",
     "text": [
      "12/12 [==============================] - 22s 2s/step - loss: 289.7845 - accuracy: 0.2377\n",
      "Test accuracy: 0.23770491778850555\n"
     ]
    }
   ],
   "source": [
    "test_loss, test_acc = model.evaluate(Xtest, Ytest)\n",
    "print('Test accuracy:', test_acc)"
   ]
  },
  {
   "cell_type": "code",
   "execution_count": null,
   "id": "5665ed59",
   "metadata": {},
   "outputs": [],
   "source": []
  }
 ],
 "metadata": {
  "kernelspec": {
   "display_name": "Python 3 (ipykernel)",
   "language": "python",
   "name": "python3"
  },
  "language_info": {
   "codemirror_mode": {
    "name": "ipython",
    "version": 3
   },
   "file_extension": ".py",
   "mimetype": "text/x-python",
   "name": "python",
   "nbconvert_exporter": "python",
   "pygments_lexer": "ipython3",
   "version": "3.9.7"
  }
 },
 "nbformat": 4,
 "nbformat_minor": 5
}
