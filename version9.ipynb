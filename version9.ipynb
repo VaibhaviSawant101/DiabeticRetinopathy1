{
 "cells": [
  {
   "cell_type": "markdown",
   "id": "199a7bb7",
   "metadata": {},
   "source": [
    "### InceptionResNetV2"
   ]
  },
  {
   "cell_type": "code",
   "execution_count": 1,
   "id": "9f8878de",
   "metadata": {},
   "outputs": [],
   "source": [
    "import numpy as np\n",
    "import tensorflow as tf\n",
    "from tensorflow.keras import layers, models\n",
    "from tensorflow.keras.applications import InceptionResNetV2\n",
    "from tensorflow.keras.preprocessing.image import ImageDataGenerator"
   ]
  },
  {
   "cell_type": "code",
   "execution_count": 2,
   "id": "d7ce39ca",
   "metadata": {},
   "outputs": [],
   "source": [
    "Xtrain = np.load('Xtrain.npz')\n",
    "Xtrain = Xtrain['x']\n",
    "Ytrain = np.load('Ytrain.npz')\n",
    "Ytrain = Ytrain['y']"
   ]
  },
  {
   "cell_type": "code",
   "execution_count": 3,
   "id": "d9c96713",
   "metadata": {},
   "outputs": [],
   "source": [
    "Xtest = np.load('Xtest.npz')\n",
    "Xtest = Xtest['x']\n",
    "Ytest = np.load('Ytest.npz')\n",
    "Ytest = Ytest['y']"
   ]
  },
  {
   "cell_type": "code",
   "execution_count": 4,
   "id": "8c52a814",
   "metadata": {},
   "outputs": [],
   "source": [
    "Xval = np.load('Xval.npz')\n",
    "Xval = Xval['x']\n",
    "Yval = np.load('Yval.npz')\n",
    "Yval = Yval['y']"
   ]
  },
  {
   "cell_type": "code",
   "execution_count": 5,
   "id": "320dab7b",
   "metadata": {},
   "outputs": [
    {
     "data": {
      "text/plain": [
       "(2930, 255, 255)"
      ]
     },
     "execution_count": 5,
     "metadata": {},
     "output_type": "execute_result"
    }
   ],
   "source": [
    "Xtrain.shape"
   ]
  },
  {
   "cell_type": "code",
   "execution_count": 6,
   "id": "dc2a92d9",
   "metadata": {},
   "outputs": [
    {
     "data": {
      "text/plain": [
       "(366, 255, 255)"
      ]
     },
     "execution_count": 6,
     "metadata": {},
     "output_type": "execute_result"
    }
   ],
   "source": [
    "Xtest.shape"
   ]
  },
  {
   "cell_type": "code",
   "execution_count": 7,
   "id": "8cbc955a",
   "metadata": {},
   "outputs": [
    {
     "data": {
      "text/plain": [
       "(366, 255, 255)"
      ]
     },
     "execution_count": 7,
     "metadata": {},
     "output_type": "execute_result"
    }
   ],
   "source": [
    "Xval.shape"
   ]
  },
  {
   "cell_type": "code",
   "execution_count": 5,
   "id": "9d8c3012",
   "metadata": {},
   "outputs": [
    {
     "name": "stdout",
     "output_type": "stream",
     "text": [
      "Downloading data from https://storage.googleapis.com/tensorflow/keras-applications/inception_resnet_v2/inception_resnet_v2_weights_tf_dim_ordering_tf_kernels_notop.h5\n",
      "219055592/219055592 [==============================] - 112s 1us/step\n"
     ]
    }
   ],
   "source": [
    "base_model = InceptionResNetV2(weights='imagenet', include_top=False, input_shape=(Xtrain.shape[1], Xtrain.shape[2], 3))"
   ]
  },
  {
   "cell_type": "code",
   "execution_count": null,
   "id": "b583a694",
   "metadata": {},
   "outputs": [],
   "source": [
    "Xtrain = np.expand_dims(Xtrain, axis=-1) \n",
    "Xtrain = np.repeat(Xtrain, 3, axis=-1)"
   ]
  },
  {
   "cell_type": "code",
   "execution_count": null,
   "id": "6f456b21",
   "metadata": {},
   "outputs": [],
   "source": [
    "Xval = np.expand_dims(Xval, axis=-1)\n",
    "Xval = np.repeat(Xval, 3, axis=-1)"
   ]
  },
  {
   "cell_type": "code",
   "execution_count": null,
   "id": "e450ad53",
   "metadata": {},
   "outputs": [],
   "source": [
    "Xtest = np.expand_dims(Xtest, axis=-1)\n",
    "Xtest = np.repeat(Xtest, 3, axis=-1)"
   ]
  },
  {
   "cell_type": "code",
   "execution_count": null,
   "id": "8234bf8f",
   "metadata": {},
   "outputs": [],
   "source": [
    "base_model.trainable = False"
   ]
  },
  {
   "cell_type": "code",
   "execution_count": null,
   "id": "d750c739",
   "metadata": {},
   "outputs": [],
   "source": [
    "model = models.Sequential([\n",
    "    base_model,\n",
    "    layers.GlobalAveragePooling2D(),\n",
    "    layers.Dense(128, activation='relu'),\n",
    "    layers.Dense(num_classes, activation='softmax')  # Assuming num_classes is the number of classes you want to classify\n",
    "])"
   ]
  },
  {
   "cell_type": "code",
   "execution_count": null,
   "id": "ecf8e721",
   "metadata": {},
   "outputs": [],
   "source": [
    "model.compile(optimizer='adam',\n",
    "              loss='sparse_categorical_crossentropy',\n",
    "              metrics=['accuracy'])"
   ]
  },
  {
   "cell_type": "code",
   "execution_count": null,
   "id": "5a57bed0",
   "metadata": {},
   "outputs": [],
   "source": [
    "train_datagen = ImageDataGenerator(rescale=1./255,\n",
    "                                  rotation_range=20,\n",
    "                                  width_shift_range=0.2,\n",
    "                                  height_shift_range=0.2,\n",
    "                                  shear_range=0.2,\n",
    "                                  zoom_range=0.2,\n",
    "                                  horizontal_flip=True,\n",
    "                                  fill_mode='nearest')"
   ]
  },
  {
   "cell_type": "code",
   "execution_count": null,
   "id": "c5cedaf3",
   "metadata": {},
   "outputs": [],
   "source": [
    "train_generator = train_datagen.flow(Xtrain, Ytrain, batch_size=32)\n",
    "validation_data = (Xval, Yval)\n",
    "model.fit(train_generator, epochs=10, validation_data=validation_data)"
   ]
  },
  {
   "cell_type": "code",
   "execution_count": null,
   "id": "582fcaf3",
   "metadata": {},
   "outputs": [],
   "source": [
    "test_loss, test_acc = model.evaluate(Xtest, Ytest)\n",
    "print('Test accuracy:', test_acc)"
   ]
  }
 ],
 "metadata": {
  "kernelspec": {
   "display_name": "Python 3 (ipykernel)",
   "language": "python",
   "name": "python3"
  },
  "language_info": {
   "codemirror_mode": {
    "name": "ipython",
    "version": 3
   },
   "file_extension": ".py",
   "mimetype": "text/x-python",
   "name": "python",
   "nbconvert_exporter": "python",
   "pygments_lexer": "ipython3",
   "version": "3.9.7"
  }
 },
 "nbformat": 4,
 "nbformat_minor": 5
}
