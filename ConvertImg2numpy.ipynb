{
 "cells": [
  {
   "cell_type": "code",
   "execution_count": 1,
   "id": "840d65bf",
   "metadata": {},
   "outputs": [],
   "source": [
    "import cv2 as cv \n",
    "import numpy as np"
   ]
  },
  {
   "cell_type": "code",
   "execution_count": 2,
   "id": "2e3beaec",
   "metadata": {},
   "outputs": [],
   "source": [
    "import pathlib\n",
    "data_dir =pathlib.Path(\"./dataset_val\")"
   ]
  },
  {
   "cell_type": "code",
   "execution_count": 3,
   "id": "c9c459b1",
   "metadata": {},
   "outputs": [],
   "source": [
    "retina_images_dict = {\n",
    "    'no_dr' : list(data_dir.glob('No_DR/*')),\n",
    "    'mild' : list(data_dir.glob('Mild/*')),\n",
    "    'moderate' : list(data_dir.glob('Moderate/*')),\n",
    "    'severe' : list(data_dir.glob('Severe/*')),\n",
    "    'proliferate_dr' : list(data_dir.glob('Proliferate_DR/*'))\n",
    "}"
   ]
  },
  {
   "cell_type": "code",
   "execution_count": 4,
   "id": "fd6fda0d",
   "metadata": {},
   "outputs": [],
   "source": [
    "retina_labels_dict = {\n",
    "    'no_dr' : 0,\n",
    "    'mild' : 1,\n",
    "    'moderate' : 2,\n",
    "    'severe' : 3,\n",
    "    'proliferate_dr' : 4\n",
    "}"
   ]
  },
  {
   "cell_type": "code",
   "execution_count": 5,
   "id": "6d11f031",
   "metadata": {},
   "outputs": [],
   "source": [
    "def rescaleFrame(frame):\n",
    "    dimensions = (255, 255)\n",
    "    return cv.resize(frame, dimensions, interpolation=cv.INTER_CUBIC)"
   ]
  },
  {
   "cell_type": "code",
   "execution_count": 6,
   "id": "0cadc714",
   "metadata": {},
   "outputs": [],
   "source": [
    "x, y = [], []\n",
    "for dr_type, images in retina_images_dict.items():\n",
    "    for image in images:\n",
    "        img = cv.imread(str(image))\n",
    "        img = rescaleFrame(img)\n",
    "        gray = cv.cvtColor(img, cv.COLOR_BGR2GRAY)\n",
    "        adap_thresh = cv.adaptiveThreshold(gray, 255, cv.ADAPTIVE_THRESH_MEAN_C, cv.THRESH_BINARY, 11, 2.5)\n",
    "        x.append(adap_thresh)\n",
    "        y.append(retina_labels_dict[dr_type])"
   ]
  },
  {
   "cell_type": "code",
   "execution_count": 7,
   "id": "1fe2698d",
   "metadata": {},
   "outputs": [],
   "source": [
    "np.savez('Xval.npz', x=x)\n",
    "np.savez('Yval.npx', y=y)"
   ]
  },
  {
   "cell_type": "code",
   "execution_count": 8,
   "id": "a1e80ced",
   "metadata": {},
   "outputs": [],
   "source": [
    "Xtrain = np.load('Xval.npz')\n",
    "Xtrain = Xtrain['x']"
   ]
  },
  {
   "cell_type": "code",
   "execution_count": 9,
   "id": "fd6379b2",
   "metadata": {},
   "outputs": [
    {
     "data": {
      "text/plain": [
       "(366, 255, 255)"
      ]
     },
     "execution_count": 9,
     "metadata": {},
     "output_type": "execute_result"
    }
   ],
   "source": [
    "Xtrain.shape"
   ]
  }
 ],
 "metadata": {
  "kernelspec": {
   "display_name": "Python 3 (ipykernel)",
   "language": "python",
   "name": "python3"
  },
  "language_info": {
   "codemirror_mode": {
    "name": "ipython",
    "version": 3
   },
   "file_extension": ".py",
   "mimetype": "text/x-python",
   "name": "python",
   "nbconvert_exporter": "python",
   "pygments_lexer": "ipython3",
   "version": "3.9.7"
  }
 },
 "nbformat": 4,
 "nbformat_minor": 5
}
