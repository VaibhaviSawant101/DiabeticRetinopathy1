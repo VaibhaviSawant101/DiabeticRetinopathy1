{
 "cells": [
  {
   "cell_type": "markdown",
   "id": "4b624073",
   "metadata": {},
   "source": [
    "### VGG16"
   ]
  },
  {
   "cell_type": "code",
   "execution_count": 1,
   "id": "6b582353",
   "metadata": {},
   "outputs": [],
   "source": [
    "import numpy as np\n",
    "import tensorflow as tf\n",
    "from tensorflow.keras import layers, models\n",
    "from tensorflow.keras.applications import VGG16\n",
    "from tensorflow.keras.preprocessing.image import ImageDataGenerator"
   ]
  },
  {
   "cell_type": "code",
   "execution_count": 2,
   "id": "0ec02ebf",
   "metadata": {},
   "outputs": [],
   "source": [
    "Xtrain = np.load('Xtrain.npz')\n",
    "Xtrain = Xtrain['x']\n",
    "Ytrain = np.load('Ytrain.npz')\n",
    "Ytrain = Ytrain['y']"
   ]
  },
  {
   "cell_type": "code",
   "execution_count": 3,
   "id": "daa6c90d",
   "metadata": {},
   "outputs": [],
   "source": [
    "Xtest = np.load('Xtest.npz')\n",
    "Xtest = Xtest['x']\n",
    "Ytest = np.load('Ytest.npz')\n",
    "Ytest = Ytest['y']"
   ]
  },
  {
   "cell_type": "code",
   "execution_count": 4,
   "id": "4ceb2c6a",
   "metadata": {},
   "outputs": [],
   "source": [
    "Xval = np.load('Xval.npz')\n",
    "Xval = Xval['x']\n",
    "Yval = np.load('Yval.npz')\n",
    "Yval = Yval['y']"
   ]
  },
  {
   "cell_type": "code",
   "execution_count": 5,
   "id": "4aca5e67",
   "metadata": {},
   "outputs": [],
   "source": [
    "base_model = VGG16(weights='imagenet', include_top=False, input_shape=(Xtrain.shape[1], Xtrain.shape[2], 3))"
   ]
  },
  {
   "cell_type": "code",
   "execution_count": 6,
   "id": "d9958b02",
   "metadata": {},
   "outputs": [],
   "source": [
    "Xtrain = np.expand_dims(Xtrain, axis=-1)\n",
    "Xtrain = np.repeat(Xtrain, 3, axis=-1)"
   ]
  },
  {
   "cell_type": "code",
   "execution_count": 7,
   "id": "b507c8f8",
   "metadata": {},
   "outputs": [],
   "source": [
    "Xtest = np.expand_dims(Xtest, axis=-1)\n",
    "Xtest = np.repeat(Xtest, 3, axis=-1)"
   ]
  },
  {
   "cell_type": "code",
   "execution_count": 8,
   "id": "8cab83b7",
   "metadata": {},
   "outputs": [],
   "source": [
    "Xval = np.expand_dims(Xval, axis=-1)\n",
    "Xval = np.repeat(Xval, 3, axis=-1)"
   ]
  },
  {
   "cell_type": "code",
   "execution_count": 9,
   "id": "03a58dc1",
   "metadata": {},
   "outputs": [],
   "source": [
    "base_model.trainable = False"
   ]
  },
  {
   "cell_type": "code",
   "execution_count": 10,
   "id": "18afcb32",
   "metadata": {},
   "outputs": [],
   "source": [
    "model = models.Sequential([\n",
    "    base_model,\n",
    "    layers.Flatten(),\n",
    "    layers.Dense(128, activation='relu'),\n",
    "    layers.Dense(5, activation='softmax')\n",
    "])"
   ]
  },
  {
   "cell_type": "code",
   "execution_count": 11,
   "id": "a2d1b18b",
   "metadata": {},
   "outputs": [],
   "source": [
    "model.compile(optimizer='adam',\n",
    "              loss='sparse_categorical_crossentropy',\n",
    "              metrics=['accuracy'])"
   ]
  },
  {
   "cell_type": "code",
   "execution_count": 12,
   "id": "4ea34bb5",
   "metadata": {},
   "outputs": [
    {
     "name": "stdout",
     "output_type": "stream",
     "text": [
      "Epoch 1/15\n",
      "92/92 [==============================] - 1025s 11s/step - loss: 6.2916 - accuracy: 0.6157 - val_loss: 0.9579 - val_accuracy: 0.6667\n",
      "Epoch 2/15\n",
      "92/92 [==============================] - 799s 9s/step - loss: 0.8683 - accuracy: 0.7154 - val_loss: 0.9070 - val_accuracy: 0.7186\n",
      "Epoch 3/15\n",
      "92/92 [==============================] - 747s 8s/step - loss: 0.7002 - accuracy: 0.7413 - val_loss: 0.8761 - val_accuracy: 0.7049\n",
      "Epoch 4/15\n",
      "92/92 [==============================] - 1451s 16s/step - loss: 0.6055 - accuracy: 0.7457 - val_loss: 0.8150 - val_accuracy: 0.7213\n",
      "Epoch 5/15\n",
      "92/92 [==============================] - 1469s 16s/step - loss: 0.5370 - accuracy: 0.7584 - val_loss: 0.8839 - val_accuracy: 0.7049\n",
      "Epoch 6/15\n",
      "92/92 [==============================] - 1259s 14s/step - loss: 0.5100 - accuracy: 0.7768 - val_loss: 0.8871 - val_accuracy: 0.7186\n",
      "Epoch 7/15\n",
      "92/92 [==============================] - 1115s 12s/step - loss: 0.4339 - accuracy: 0.8191 - val_loss: 0.9840 - val_accuracy: 0.7186\n",
      "Epoch 8/15\n",
      "92/92 [==============================] - 1117s 12s/step - loss: 0.4104 - accuracy: 0.8382 - val_loss: 0.9252 - val_accuracy: 0.7213\n",
      "Epoch 9/15\n",
      "92/92 [==============================] - 1113s 12s/step - loss: 0.3953 - accuracy: 0.8410 - val_loss: 0.9722 - val_accuracy: 0.6913\n",
      "Epoch 10/15\n",
      "92/92 [==============================] - 1100s 12s/step - loss: 0.3610 - accuracy: 0.8597 - val_loss: 0.9718 - val_accuracy: 0.7186\n",
      "Epoch 11/15\n",
      "92/92 [==============================] - 1100s 12s/step - loss: 0.3476 - accuracy: 0.8672 - val_loss: 1.1121 - val_accuracy: 0.7049\n",
      "Epoch 12/15\n",
      "92/92 [==============================] - 971s 11s/step - loss: 0.3178 - accuracy: 0.8833 - val_loss: 1.2553 - val_accuracy: 0.7350\n",
      "Epoch 13/15\n",
      "92/92 [==============================] - 720s 8s/step - loss: 0.2722 - accuracy: 0.8962 - val_loss: 1.1443 - val_accuracy: 0.7486\n",
      "Epoch 14/15\n",
      "92/92 [==============================] - 662s 7s/step - loss: 0.2564 - accuracy: 0.9109 - val_loss: 1.2359 - val_accuracy: 0.7322\n",
      "Epoch 15/15\n",
      "92/92 [==============================] - 671s 7s/step - loss: 0.2382 - accuracy: 0.9113 - val_loss: 1.2075 - val_accuracy: 0.7459\n"
     ]
    },
    {
     "data": {
      "text/plain": [
       "<keras.callbacks.History at 0x1fec1f94ee0>"
      ]
     },
     "execution_count": 12,
     "metadata": {},
     "output_type": "execute_result"
    }
   ],
   "source": [
    "model.fit(Xtrain, Ytrain, epochs=15, batch_size=32, validation_data=(Xval, Yval))"
   ]
  },
  {
   "cell_type": "code",
   "execution_count": 13,
   "id": "961925ce",
   "metadata": {},
   "outputs": [
    {
     "name": "stdout",
     "output_type": "stream",
     "text": [
      "12/12 [==============================] - 74s 6s/step - loss: 1.2376 - accuracy: 0.7732\n",
      "Test accuracy: 0.7732240557670593\n"
     ]
    }
   ],
   "source": [
    "test_loss, test_acc = model.evaluate(Xtest, Ytest)\n",
    "print('Test accuracy:', test_acc)"
   ]
  },
  {
   "cell_type": "code",
   "execution_count": 21,
   "id": "6afa30cf",
   "metadata": {},
   "outputs": [],
   "source": [
    "from sklearn.metrics import confusion_matrix\n",
    "import seaborn as sns\n",
    "import matplotlib.pyplot as plt\n",
    "from sklearn.metrics import classification_report"
   ]
  },
  {
   "cell_type": "code",
   "execution_count": 16,
   "id": "191fb3c2",
   "metadata": {},
   "outputs": [
    {
     "name": "stdout",
     "output_type": "stream",
     "text": [
      "12/12 [==============================] - 79s 6s/step\n"
     ]
    }
   ],
   "source": [
    "y_pred = model.predict(Xtest)\n",
    "y_pred_classes = np.argmax(y_pred, axis=1)"
   ]
  },
  {
   "cell_type": "code",
   "execution_count": 18,
   "id": "edbf74c0",
   "metadata": {},
   "outputs": [],
   "source": [
    "conf_mat = confusion_matrix(Ytest, y_pred_classes)"
   ]
  },
  {
   "cell_type": "code",
   "execution_count": 19,
   "id": "4e2b89b2",
   "metadata": {},
   "outputs": [
    {
     "data": {
      "image/png": "[encoded data removed]",
      "text/plain": [
       "<Figure size 720x576 with 1 Axes>"
      ]
     },
     "metadata": {
      "needs_background": "light"
     },
     "output_type": "display_data"
    }
   ],
   "source": [
    "plt.figure(figsize=(10, 8))\n",
    "sns.heatmap(conf_mat, annot=True, fmt=\"d\", cmap=\"Blues\", cbar=False)\n",
    "plt.xlabel('Predicted labels')\n",
    "plt.ylabel('True labels')\n",
    "plt.title('Confusion Matrix')\n",
    "plt.show()"
   ]
  },
  {
   "cell_type": "code",
   "execution_count": 22,
   "id": "9ca07496",
   "metadata": {},
   "outputs": [
    {
     "name": "stdout",
     "output_type": "stream",
     "text": [
      "              precision    recall  f1-score   support\n",
      "\n",
      "           0       0.94      0.97      0.96       199\n",
      "           1       0.56      0.33      0.42        30\n",
      "           2       0.59      0.80      0.68        87\n",
      "           3       0.25      0.06      0.10        17\n",
      "           4       0.43      0.27      0.33        33\n",
      "\n",
      "    accuracy                           0.77       366\n",
      "   macro avg       0.55      0.49      0.50       366\n",
      "weighted avg       0.75      0.77      0.75       366\n",
      "\n"
     ]
    }
   ],
   "source": [
    " print(classification_report(Ytest, y_pred_classes))"
   ]
  },
  {
   "cell_type": "code",
   "execution_count": null,
   "id": "64cdf873",
   "metadata": {},
   "outputs": [],
   "source": []
  }
 ],
 "metadata": {
  "kernelspec": {
   "display_name": "Python 3 (ipykernel)",
   "language": "python",
   "name": "python3"
  },
  "language_info": {
   "codemirror_mode": {
    "name": "ipython",
    "version": 3
   },
   "file_extension": ".py",
   "mimetype": "text/x-python",
   "name": "python",
   "nbconvert_exporter": "python",
   "pygments_lexer": "ipython3",
   "version": "3.9.7"
  }
 },
 "nbformat": 4,
 "nbformat_minor": 5
}
