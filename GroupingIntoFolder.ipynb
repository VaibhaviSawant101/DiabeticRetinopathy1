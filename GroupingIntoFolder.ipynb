{
 "cells": [
  {
   "cell_type": "code",
   "execution_count": 1,
   "id": "4ec8368b",
   "metadata": {},
   "outputs": [],
   "source": [
    "import pandas as pd\n",
    "import os\n",
    "import shutil"
   ]
  },
  {
   "cell_type": "code",
   "execution_count": 2,
   "id": "79e9890f",
   "metadata": {},
   "outputs": [],
   "source": [
    "className = {0 : \"No_DR\", 1 : \"Mild\", 2 : \"Moderate\", 3 : \"Severe\", 4 : \"Proliferate_DR\"}"
   ]
  },
  {
   "cell_type": "code",
   "execution_count": 3,
   "id": "3659d764",
   "metadata": {},
   "outputs": [],
   "source": [
    "train_csv = pd.read_csv(r\"./valid.csv\")  "
   ]
  },
  {
   "cell_type": "code",
   "execution_count": 4,
   "id": "f02f24ca",
   "metadata": {},
   "outputs": [],
   "source": [
    "train_csv=pd.Series(train_csv.iloc[:, 1]).to_numpy()"
   ]
  },
  {
   "cell_type": "code",
   "execution_count": 5,
   "id": "604bcb11",
   "metadata": {},
   "outputs": [],
   "source": [
    "csvFile = os.path.join(r\"./valid.csv\")\n",
    "imgFile = os.listdir(r'./val_images/val_images')"
   ]
  },
  {
   "cell_type": "code",
   "execution_count": 6,
   "id": "b3208f71",
   "metadata": {},
   "outputs": [],
   "source": [
    "i = 0;\n",
    "for img in imgFile:\n",
    "    nameFolder = className[train_csv[i]]\n",
    "    currLoc = os.path.join(r'./val_images/val_images', img)\n",
    "    destLoc = os.path.join(r'./dataset_val', nameFolder)\n",
    "    shutil.copy(currLoc, destLoc)\n",
    "    i += 1"
   ]
  },
  {
   "cell_type": "code",
   "execution_count": 7,
   "id": "15436f1f",
   "metadata": {},
   "outputs": [],
   "source": [
    "import seaborn as sns"
   ]
  },
  {
   "cell_type": "code",
   "execution_count": 8,
   "id": "eef1c996",
   "metadata": {},
   "outputs": [
    {
     "name": "stderr",
     "output_type": "stream",
     "text": [
      "C:\\python-3.9.7\\lib\\site-packages\\seaborn\\_decorators.py:36: FutureWarning: Pass the following variable as a keyword arg: x. From version 0.12, the only valid positional argument will be `data`, and passing other arguments without an explicit keyword will result in an error or misinterpretation.\n",
      "  warnings.warn(\n"
     ]
    },
    {
     "data": {
      "text/plain": [
       "<AxesSubplot:ylabel='count'>"
      ]
     },
     "execution_count": 8,
     "metadata": {},
     "output_type": "execute_result"
    },
    {
     "data": {
      "image/png": "[encoded data removed]",
      "text/plain": [
       "<Figure size 432x288 with 1 Axes>"
      ]
     },
     "metadata": {
      "needs_background": "light"
     },
     "output_type": "display_data"
    }
   ],
   "source": [
    "sns.countplot(train_csv)"
   ]
  }
 ],
 "metadata": {
  "kernelspec": {
   "display_name": "Python 3 (ipykernel)",
   "language": "python",
   "name": "python3"
  },
  "language_info": {
   "codemirror_mode": {
    "name": "ipython",
    "version": 3
   },
   "file_extension": ".py",
   "mimetype": "text/x-python",
   "name": "python",
   "nbconvert_exporter": "python",
   "pygments_lexer": "ipython3",
   "version": "3.9.7"
  }
 },
 "nbformat": 4,
 "nbformat_minor": 5
}
