{
 "cells": [
  {
   "cell_type": "markdown",
   "id": "656129c3",
   "metadata": {},
   "source": [
    "### Inception V3"
   ]
  },
  {
   "cell_type": "code",
   "execution_count": 1,
   "id": "922c8a0c",
   "metadata": {},
   "outputs": [],
   "source": [
    "import numpy as np\n",
    "import tensorflow as tf\n",
    "from tensorflow.keras import layers, models\n",
    "from tensorflow.keras.applications import InceptionV3\n",
    "from tensorflow.keras.preprocessing.image import ImageDataGenerator"
   ]
  },
  {
   "cell_type": "code",
   "execution_count": 2,
   "id": "a89bed3b",
   "metadata": {},
   "outputs": [],
   "source": [
    "Xtrain = np.load('Xtrain.npz')\n",
    "Xtrain = Xtrain['x']\n",
    "Ytrain = np.load('Ytrain.npz')\n",
    "Ytrain = Ytrain['y']"
   ]
  },
  {
   "cell_type": "code",
   "execution_count": 3,
   "id": "bf2a49ef",
   "metadata": {},
   "outputs": [],
   "source": [
    "Xtest = np.load('Xtest.npz')\n",
    "Xtest = Xtest['x']\n",
    "Ytest = np.load('Ytest.npz')\n",
    "Ytest = Ytest['y']"
   ]
  },
  {
   "cell_type": "code",
   "execution_count": 4,
   "id": "9fff3a59",
   "metadata": {},
   "outputs": [],
   "source": [
    "Xval = np.load('Xval.npz')\n",
    "Xval = Xval['x']\n",
    "Yval = np.load('Yval.npz')\n",
    "Yval = Yval['y']"
   ]
  },
  {
   "cell_type": "code",
   "execution_count": 5,
   "id": "a1ad41ff",
   "metadata": {},
   "outputs": [],
   "source": [
    "base_model = InceptionV3(weights='imagenet', include_top=False, input_shape=(Xtrain.shape[1], Xtrain.shape[2], 3))"
   ]
  },
  {
   "cell_type": "code",
   "execution_count": 6,
   "id": "1a0e2dff",
   "metadata": {},
   "outputs": [],
   "source": [
    "Xtrain = np.expand_dims(Xtrain, axis=-1) \n",
    "Xtrain = np.repeat(Xtrain, 3, axis=-1)"
   ]
  },
  {
   "cell_type": "code",
   "execution_count": 7,
   "id": "e958e08e",
   "metadata": {},
   "outputs": [],
   "source": [
    "Xval = np.expand_dims(Xval, axis=-1)\n",
    "Xval = np.repeat(Xval, 3, axis=-1)"
   ]
  },
  {
   "cell_type": "code",
   "execution_count": 8,
   "id": "6f0e4905",
   "metadata": {},
   "outputs": [],
   "source": [
    "Xtest = np.expand_dims(Xtest, axis=-1)\n",
    "Xtest = np.repeat(Xtest, 3, axis=-1)"
   ]
  },
  {
   "cell_type": "code",
   "execution_count": 9,
   "id": "6a3643f9",
   "metadata": {},
   "outputs": [],
   "source": [
    "base_model.trainable = False"
   ]
  },
  {
   "cell_type": "code",
   "execution_count": 10,
   "id": "a884b897",
   "metadata": {},
   "outputs": [],
   "source": [
    "model = models.Sequential([\n",
    "    base_model,\n",
    "    layers.GlobalAveragePooling2D(),\n",
    "    layers.Dense(128, activation='relu'),\n",
    "    layers.Dense(5, activation='softmax')  # Assuming num_classes is the number of classes you want to classify\n",
    "])"
   ]
  },
  {
   "cell_type": "code",
   "execution_count": 11,
   "id": "08807988",
   "metadata": {},
   "outputs": [],
   "source": [
    "model.compile(optimizer='adam',\n",
    "              loss='sparse_categorical_crossentropy',\n",
    "              metrics=['accuracy'])"
   ]
  },
  {
   "cell_type": "code",
   "execution_count": 12,
   "id": "3db9d2ea",
   "metadata": {},
   "outputs": [],
   "source": [
    "train_datagen = ImageDataGenerator(rescale=1./255,\n",
    "                                  rotation_range=20,\n",
    "                                  width_shift_range=0.2,\n",
    "                                  height_shift_range=0.2,\n",
    "                                  shear_range=0.2,\n",
    "                                  zoom_range=0.2,\n",
    "                                  horizontal_flip=True,\n",
    "                                  fill_mode='nearest')"
   ]
  },
  {
   "cell_type": "code",
   "execution_count": 13,
   "id": "19889a9d",
   "metadata": {},
   "outputs": [
    {
     "name": "stdout",
     "output_type": "stream",
     "text": [
      "Epoch 1/10\n",
      "92/92 [==============================] - 325s 3s/step - loss: 1.0450 - accuracy: 0.6328 - val_loss: 6.0291 - val_accuracy: 0.3087\n",
      "Epoch 2/10\n",
      "92/92 [==============================] - 304s 3s/step - loss: 0.8911 - accuracy: 0.6775 - val_loss: 8.2968 - val_accuracy: 0.4317\n",
      "Epoch 3/10\n",
      "92/92 [==============================] - 302s 3s/step - loss: 0.8352 - accuracy: 0.6898 - val_loss: 14.0118 - val_accuracy: 0.4645\n",
      "Epoch 4/10\n",
      "92/92 [==============================] - 299s 3s/step - loss: 0.8132 - accuracy: 0.6976 - val_loss: 9.3596 - val_accuracy: 0.2923\n",
      "Epoch 5/10\n",
      "92/92 [==============================] - 310s 3s/step - loss: 0.8150 - accuracy: 0.6915 - val_loss: 11.7388 - val_accuracy: 0.4481\n",
      "Epoch 6/10\n",
      "92/92 [==============================] - 300s 3s/step - loss: 0.7895 - accuracy: 0.7051 - val_loss: 11.7624 - val_accuracy: 0.4153\n",
      "Epoch 7/10\n",
      "92/92 [==============================] - 300s 3s/step - loss: 0.7647 - accuracy: 0.7208 - val_loss: 9.4715 - val_accuracy: 0.3333\n",
      "Epoch 8/10\n",
      "92/92 [==============================] - 287s 3s/step - loss: 0.7769 - accuracy: 0.7099 - val_loss: 10.1806 - val_accuracy: 0.3251\n",
      "Epoch 9/10\n",
      "92/92 [==============================] - 253s 3s/step - loss: 0.7734 - accuracy: 0.7068 - val_loss: 13.4467 - val_accuracy: 0.2896\n",
      "Epoch 10/10\n",
      "92/92 [==============================] - 215s 2s/step - loss: 0.7575 - accuracy: 0.7225 - val_loss: 10.7197 - val_accuracy: 0.2951\n"
     ]
    },
    {
     "data": {
      "text/plain": [
       "<keras.callbacks.History at 0x1a1e631fe20>"
      ]
     },
     "execution_count": 13,
     "metadata": {},
     "output_type": "execute_result"
    }
   ],
   "source": [
    "train_generator = train_datagen.flow(Xtrain, Ytrain, batch_size=32)\n",
    "validation_data = (Xval, Yval)\n",
    "model.fit(train_generator, epochs=10, validation_data=validation_data)"
   ]
  },
  {
   "cell_type": "code",
   "execution_count": 15,
   "id": "0905283a",
   "metadata": {},
   "outputs": [
    {
     "name": "stdout",
     "output_type": "stream",
     "text": [
      "12/12 [==============================] - 15s 1s/step - loss: 11.9091 - accuracy: 0.2514\n",
      "Test accuracy: 0.25136610865592957\n"
     ]
    }
   ],
   "source": [
    "test_loss, test_acc = model.evaluate(Xtest, Ytest)\n",
    "print('Test accuracy:', test_acc)"
   ]
  }
 ],
 "metadata": {
  "kernelspec": {
   "display_name": "Python 3 (ipykernel)",
   "language": "python",
   "name": "python3"
  },
  "language_info": {
   "codemirror_mode": {
    "name": "ipython",
    "version": 3
   },
   "file_extension": ".py",
   "mimetype": "text/x-python",
   "name": "python",
   "nbconvert_exporter": "python",
   "pygments_lexer": "ipython3",
   "version": "3.9.7"
  }
 },
 "nbformat": 4,
 "nbformat_minor": 5
}
